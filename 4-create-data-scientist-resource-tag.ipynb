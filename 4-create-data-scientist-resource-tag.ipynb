{
 "cells": [
  {
   "cell_type": "code",
   "execution_count": 1,
   "metadata": {},
   "outputs": [],
   "source": [
    "import boto3\n",
    "import json"
   ]
  },
  {
   "cell_type": "code",
   "execution_count": 2,
   "metadata": {},
   "outputs": [
    {
     "name": "stdout",
     "output_type": "stream",
     "text": [
      "arn:aws:iam::476271697919:role/abc.dev.all.sagemaker.data-scientist-exec.role \n",
      "arn:aws:sagemaker:us-west-2:476271697919:notebook-instance/*\n"
     ]
    }
   ],
   "source": [
    "# get current accout and region\n",
    "account = boto3.client('sts').get_caller_identity().get('Account')\n",
    "region = boto3.Session().region_name\n",
    "ds_nb_exec_role = f'arn:aws:iam::{account}:role/abc.dev.all.sagemaker.data-scientist-exec.role'\n",
    "ds_nb_resource = f'arn:aws:sagemaker:{region}:{account}:notebook-instance/*'\n",
    "ds_policy_name = 'abc.dev.us-west-2.data-scientist.create-nb.policy'\n",
    "\n",
    "print(f'{ds_nb_exec_role} \\n{ds_nb_resource}')"
   ]
  },
  {
   "cell_type": "code",
   "execution_count": 4,
   "metadata": {},
   "outputs": [],
   "source": [
    "# Create a data scientist policy\n",
    "# String condition operators: \n",
    "# https://docs.aws.amazon.com/IAM/latest/UserGuide/reference_policies_elements_condition_operators.html#Conditions_String\n",
    "# https://docs.aws.amazon.com/IAM/latest/UserGuide/access_iam-tags.html\n",
    "# https://docs.aws.amazon.com/IAM/latest/UserGuide/list_amazonsagemaker.html\n",
    "\n",
    "ds_policy = {\n",
    "    \"Version\": \"2012-10-17\",\n",
    "    \"Statement\": [\n",
    "        {\n",
    "            \"Effect\": \"Allow\",\n",
    "            \"Action\": \"iam:PassRole\",\n",
    "            \"Resource\": ds_nb_exec_role\n",
    "        },\n",
    "        {\n",
    "            \"Effect\": \"Allow\",\n",
    "            \"Action\": \"sagemaker:CreateNotebookInstance\",\n",
    "            \"Resource\": ds_nb_resource,\n",
    "            \"Condition\": {\n",
    "                \"StringEquals\": {\n",
    "                    \"aws:ResourceTag/abc.cost-center\": \"dept1\"\n",
    "                },\n",
    "                \"ForAllValues:StringEquals\": {\n",
    "                    \"aws:TagKeys\": [\n",
    "                        \"abc.owner-name\",\n",
    "                        \"abc.cost-center\",\n",
    "                        \"abc.project\"\n",
    "                    ]\n",
    "                },\n",
    "                \"ForAnyValue:StringEquals\": {\n",
    "                    \"sagemaker:InstanceTypes\": [\n",
    "                        \"ml.t2.medium\",\n",
    "                        \"ml.t3.medium\"\n",
    "                    ]\n",
    "                }\n",
    "            }\n",
    "        }\n",
    "    ]\n",
    "}"
   ]
  },
  {
   "cell_type": "code",
   "execution_count": 6,
   "metadata": {},
   "outputs": [
    {
     "name": "stdout",
     "output_type": "stream",
     "text": [
      "{'Policy': {'PolicyName': 'abc.dev.us-west-2.data-scientist.create-nb.policy', 'PolicyId': 'ANPAW5ZABL77XDDBFN4UP', 'Arn': 'arn:aws:iam::476271697919:policy/abc.dev.us-west-2.data-scientist.create-nb.policy', 'Path': '/', 'DefaultVersionId': 'v1', 'AttachmentCount': 0, 'PermissionsBoundaryUsageCount': 0, 'IsAttachable': True, 'CreateDate': datetime.datetime(2020, 8, 19, 14, 18, 40, tzinfo=tzlocal()), 'UpdateDate': datetime.datetime(2020, 8, 19, 14, 18, 40, tzinfo=tzlocal())}, 'ResponseMetadata': {'RequestId': 'e2d1b259-9d62-4c9b-a45b-5a29f239c3a7', 'HTTPStatusCode': 200, 'HTTPHeaders': {'x-amzn-requestid': 'e2d1b259-9d62-4c9b-a45b-5a29f239c3a7', 'content-type': 'text/xml', 'content-length': '833', 'date': 'Wed, 19 Aug 2020 14:18:39 GMT'}, 'RetryAttempts': 0}}\n"
     ]
    },
    {
     "data": {
      "text/plain": [
       "'arn:aws:iam::476271697919:policy/abc.dev.us-west-2.data-scientist.create-nb.policy'"
      ]
     },
     "execution_count": 6,
     "metadata": {},
     "output_type": "execute_result"
    }
   ],
   "source": [
    "# Create IAM client\n",
    "iam = boto3.client('iam')\n",
    "\n",
    "response = iam.create_policy(\n",
    "  PolicyName=ds_policy_name,\n",
    "  PolicyDocument=json.dumps(ds_policy)\n",
    ")\n",
    "print(response)\n",
    "policy_arn = response['Policy']['Arn']\n",
    "policy_arn"
   ]
  },
  {
   "cell_type": "markdown",
   "metadata": {},
   "source": [
    "# create data scient execution role"
   ]
  },
  {
   "cell_type": "code",
   "execution_count": 7,
   "metadata": {},
   "outputs": [],
   "source": [
    "ds_role_name = 'abc.dev.us-west-2.data-scientist.basic-execution.role'"
   ]
  },
  {
   "cell_type": "code",
   "execution_count": 8,
   "metadata": {},
   "outputs": [],
   "source": [
    "# https://docs.aws.amazon.com/IAM/latest/UserGuide/id_roles_create_policy-examples.html\n",
    "ds_assume_role_policy = {\n",
    "    \"Version\": \"2012-10-17\",\n",
    "    \"Statement\": [\n",
    "        {\n",
    "            \"Effect\": \"Allow\",\n",
    "            \"Principal\": {\"AWS\": account},\n",
    "            \"Action\": [\n",
    "                \"sts:AssumeRole\"\n",
    "            ]\n",
    "        }\n",
    "    ]\n",
    "}"
   ]
  },
  {
   "cell_type": "code",
   "execution_count": 19,
   "metadata": {},
   "outputs": [],
   "source": [
    "response = iam.create_role(\n",
    "    RoleName=ds_role_name,\n",
    "    AssumeRolePolicyDocument=json.dumps(ds_assume_role_policy)\n",
    ")"
   ]
  },
  {
   "cell_type": "code",
   "execution_count": 22,
   "metadata": {},
   "outputs": [
    {
     "name": "stdout",
     "output_type": "stream",
     "text": [
      "arn:aws:iam::476271697919:role/abc.dev.us-west-2.data-scientist.basic-execution.role\n"
     ]
    }
   ],
   "source": [
    "roleArn=response['Role']['Arn']\n",
    "print(roleArn)"
   ]
  },
  {
   "cell_type": "code",
   "execution_count": 23,
   "metadata": {},
   "outputs": [
    {
     "data": {
      "text/plain": [
       "{'ResponseMetadata': {'RequestId': '61c2dad2-4f62-4b12-b50d-b936a42946b7',\n",
       "  'HTTPStatusCode': 200,\n",
       "  'HTTPHeaders': {'x-amzn-requestid': '61c2dad2-4f62-4b12-b50d-b936a42946b7',\n",
       "   'content-type': 'text/xml',\n",
       "   'content-length': '212',\n",
       "   'date': 'Wed, 19 Aug 2020 14:26:15 GMT'},\n",
       "  'RetryAttempts': 0}}"
      ]
     },
     "execution_count": 23,
     "metadata": {},
     "output_type": "execute_result"
    }
   ],
   "source": [
    "response = iam.attach_role_policy(RoleName=ds_role_name, PolicyArn=policy_arn)\n",
    "response"
   ]
  },
  {
   "cell_type": "markdown",
   "metadata": {},
   "source": [
    "# Create SageMaker Notebook Execution Role"
   ]
  },
  {
   "cell_type": "code",
   "execution_count": 31,
   "metadata": {},
   "outputs": [
    {
     "data": {
      "text/plain": [
       "{'Role': {'Path': '/',\n",
       "  'RoleName': 'abc.dev.all.sagemaker.data-scientist-exec.role',\n",
       "  'RoleId': 'AROAW5ZABL775OPBUC2PY',\n",
       "  'Arn': 'arn:aws:iam::476271697919:role/abc.dev.all.sagemaker.data-scientist-exec.role',\n",
       "  'CreateDate': datetime.datetime(2020, 8, 19, 14, 45, 11, tzinfo=tzlocal()),\n",
       "  'AssumeRolePolicyDocument': {'Version': '2012-10-17',\n",
       "   'Statement': [{'Effect': 'Allow',\n",
       "     'Principal': {'Service': ['sagemaker.amazonaws.com']},\n",
       "     'Action': ['sts:AssumeRole']}]}},\n",
       " 'ResponseMetadata': {'RequestId': '4925f1e8-d013-40f1-91c5-fd1d4892cf1a',\n",
       "  'HTTPStatusCode': 200,\n",
       "  'HTTPHeaders': {'x-amzn-requestid': '4925f1e8-d013-40f1-91c5-fd1d4892cf1a',\n",
       "   'content-type': 'text/xml',\n",
       "   'content-length': '861',\n",
       "   'date': 'Wed, 19 Aug 2020 14:45:11 GMT'},\n",
       "  'RetryAttempts': 0}}"
      ]
     },
     "execution_count": 31,
     "metadata": {},
     "output_type": "execute_result"
    }
   ],
   "source": [
    "nb_role_name = 'abc.dev.all.sagemaker.data-scientist-exec.role'\n",
    "nb_assume_role_policy = {\n",
    "    \"Version\": \"2012-10-17\",\n",
    "    \"Statement\": [\n",
    "        {\n",
    "            \"Effect\": \"Allow\",\n",
    "            \"Principal\": { \"Service\": [\"sagemaker.amazonaws.com\"] },\n",
    "            \"Action\": [\n",
    "                \"sts:AssumeRole\"\n",
    "            ]\n",
    "        }\n",
    "    ]\n",
    "}\n",
    "response = iam.create_role(RoleName=nb_role_name,\n",
    "    AssumeRolePolicyDocument=json.dumps(nb_assume_role_policy))\n",
    "\n",
    "# sagemaker_nb_role = f'arn:aws:iam::{account}:role/abc.dev.all.sagemaker.data-scientist-exec.role'\n",
    "response\n"
   ]
  },
  {
   "cell_type": "code",
   "execution_count": 32,
   "metadata": {},
   "outputs": [
    {
     "data": {
      "text/plain": [
       "'arn:aws:iam::476271697919:role/abc.dev.all.sagemaker.data-scientist-exec.role'"
      ]
     },
     "execution_count": 32,
     "metadata": {},
     "output_type": "execute_result"
    }
   ],
   "source": [
    "sagemaker_nb_role = response['Role']['Arn']\n",
    "sagemaker_nb_role"
   ]
  },
  {
   "cell_type": "markdown",
   "metadata": {},
   "source": [
    "## Verify the role"
   ]
  },
  {
   "cell_type": "code",
   "execution_count": 33,
   "metadata": {},
   "outputs": [],
   "source": [
    "sts = boto3.client('sts')\n",
    "roleSSName = 'ds-session'\n",
    "response = sts.assume_role(RoleArn=roleArn, RoleSessionName=roleSSName)\n",
    "ds_credentials = response['Credentials']\n",
    "\n",
    "# use data-science credentials to create sagemaker\n",
    "ds_session = boto3.Session(aws_access_key_id=ds_credentials['AccessKeyId'],\n",
    "    aws_secret_access_key=ds_credentials['SecretAccessKey'],\n",
    "    aws_session_token=ds_credentials['SessionToken'],\n",
    "    region_name=region)"
   ]
  },
  {
   "cell_type": "code",
   "execution_count": 34,
   "metadata": {},
   "outputs": [],
   "source": [
    "ds_sm = ds_session.client(service_name='sagemaker')"
   ]
  },
  {
   "cell_type": "code",
   "execution_count": 35,
   "metadata": {},
   "outputs": [],
   "source": [
    "from datetime import datetime\n",
    "now = datetime.now().strftime(\"-%Y-%m-%d-%H-%M-%S\") # current date and time\n",
    "\n",
    "nb_name = 'demo' + now"
   ]
  },
  {
   "cell_type": "code",
   "execution_count": 36,
   "metadata": {},
   "outputs": [
    {
     "ename": "ClientError",
     "evalue": "An error occurred (AccessDeniedException) when calling the CreateNotebookInstance operation: User: arn:aws:sts::476271697919:assumed-role/abc.dev.us-west-2.data-scientist.basic-execution.role/ds-session is not authorized to perform: sagemaker:CreateNotebookInstance on resource: arn:aws:sagemaker:us-west-2:476271697919:notebook-instance/demo-2020-08-19-14-46-10",
     "output_type": "error",
     "traceback": [
      "\u001b[0;31m---------------------------------------------------------------------------\u001b[0m",
      "\u001b[0;31mClientError\u001b[0m                               Traceback (most recent call last)",
      "\u001b[0;32m<ipython-input-36-84daaf407c14>\u001b[0m in \u001b[0;36m<module>\u001b[0;34m\u001b[0m\n\u001b[1;32m      4\u001b[0m                                           Tags=[{'Key':'abc.owner-name', 'Value':'beyoung'},\n\u001b[1;32m      5\u001b[0m                                                 \u001b[0;34m{\u001b[0m\u001b[0;34m'Key'\u001b[0m\u001b[0;34m:\u001b[0m\u001b[0;34m'abc.cost-center'\u001b[0m\u001b[0;34m,\u001b[0m \u001b[0;34m'Value'\u001b[0m\u001b[0;34m:\u001b[0m \u001b[0;34m'dept1'\u001b[0m\u001b[0;34m}\u001b[0m\u001b[0;34m,\u001b[0m\u001b[0;34m\u001b[0m\u001b[0;34m\u001b[0m\u001b[0m\n\u001b[0;32m----> 6\u001b[0;31m                                                 \u001b[0;34m{\u001b[0m\u001b[0;34m'Key'\u001b[0m\u001b[0;34m:\u001b[0m\u001b[0;34m'abc.project'\u001b[0m\u001b[0;34m,\u001b[0m \u001b[0;34m'Value'\u001b[0m\u001b[0;34m:\u001b[0m \u001b[0;34m'forecast'\u001b[0m\u001b[0;34m}\u001b[0m\u001b[0;34m,\u001b[0m\u001b[0;34m\u001b[0m\u001b[0;34m\u001b[0m\u001b[0m\n\u001b[0m\u001b[1;32m      7\u001b[0m                                           ])\n\u001b[1;32m      8\u001b[0m \u001b[0mresponse\u001b[0m\u001b[0;34m\u001b[0m\u001b[0;34m\u001b[0m\u001b[0m\n",
      "\u001b[0;32m~/anaconda3/envs/python3/lib/python3.6/site-packages/botocore/client.py\u001b[0m in \u001b[0;36m_api_call\u001b[0;34m(self, *args, **kwargs)\u001b[0m\n\u001b[1;32m    314\u001b[0m                     \"%s() only accepts keyword arguments.\" % py_operation_name)\n\u001b[1;32m    315\u001b[0m             \u001b[0;31m# The \"self\" in this scope is referring to the BaseClient.\u001b[0m\u001b[0;34m\u001b[0m\u001b[0;34m\u001b[0m\u001b[0;34m\u001b[0m\u001b[0m\n\u001b[0;32m--> 316\u001b[0;31m             \u001b[0;32mreturn\u001b[0m \u001b[0mself\u001b[0m\u001b[0;34m.\u001b[0m\u001b[0m_make_api_call\u001b[0m\u001b[0;34m(\u001b[0m\u001b[0moperation_name\u001b[0m\u001b[0;34m,\u001b[0m \u001b[0mkwargs\u001b[0m\u001b[0;34m)\u001b[0m\u001b[0;34m\u001b[0m\u001b[0;34m\u001b[0m\u001b[0m\n\u001b[0m\u001b[1;32m    317\u001b[0m \u001b[0;34m\u001b[0m\u001b[0m\n\u001b[1;32m    318\u001b[0m         \u001b[0m_api_call\u001b[0m\u001b[0;34m.\u001b[0m\u001b[0m__name__\u001b[0m \u001b[0;34m=\u001b[0m \u001b[0mstr\u001b[0m\u001b[0;34m(\u001b[0m\u001b[0mpy_operation_name\u001b[0m\u001b[0;34m)\u001b[0m\u001b[0;34m\u001b[0m\u001b[0;34m\u001b[0m\u001b[0m\n",
      "\u001b[0;32m~/anaconda3/envs/python3/lib/python3.6/site-packages/botocore/client.py\u001b[0m in \u001b[0;36m_make_api_call\u001b[0;34m(self, operation_name, api_params)\u001b[0m\n\u001b[1;32m    633\u001b[0m             \u001b[0merror_code\u001b[0m \u001b[0;34m=\u001b[0m \u001b[0mparsed_response\u001b[0m\u001b[0;34m.\u001b[0m\u001b[0mget\u001b[0m\u001b[0;34m(\u001b[0m\u001b[0;34m\"Error\"\u001b[0m\u001b[0;34m,\u001b[0m \u001b[0;34m{\u001b[0m\u001b[0;34m}\u001b[0m\u001b[0;34m)\u001b[0m\u001b[0;34m.\u001b[0m\u001b[0mget\u001b[0m\u001b[0;34m(\u001b[0m\u001b[0;34m\"Code\"\u001b[0m\u001b[0;34m)\u001b[0m\u001b[0;34m\u001b[0m\u001b[0;34m\u001b[0m\u001b[0m\n\u001b[1;32m    634\u001b[0m             \u001b[0merror_class\u001b[0m \u001b[0;34m=\u001b[0m \u001b[0mself\u001b[0m\u001b[0;34m.\u001b[0m\u001b[0mexceptions\u001b[0m\u001b[0;34m.\u001b[0m\u001b[0mfrom_code\u001b[0m\u001b[0;34m(\u001b[0m\u001b[0merror_code\u001b[0m\u001b[0;34m)\u001b[0m\u001b[0;34m\u001b[0m\u001b[0;34m\u001b[0m\u001b[0m\n\u001b[0;32m--> 635\u001b[0;31m             \u001b[0;32mraise\u001b[0m \u001b[0merror_class\u001b[0m\u001b[0;34m(\u001b[0m\u001b[0mparsed_response\u001b[0m\u001b[0;34m,\u001b[0m \u001b[0moperation_name\u001b[0m\u001b[0;34m)\u001b[0m\u001b[0;34m\u001b[0m\u001b[0;34m\u001b[0m\u001b[0m\n\u001b[0m\u001b[1;32m    636\u001b[0m         \u001b[0;32melse\u001b[0m\u001b[0;34m:\u001b[0m\u001b[0;34m\u001b[0m\u001b[0;34m\u001b[0m\u001b[0m\n\u001b[1;32m    637\u001b[0m             \u001b[0;32mreturn\u001b[0m \u001b[0mparsed_response\u001b[0m\u001b[0;34m\u001b[0m\u001b[0;34m\u001b[0m\u001b[0m\n",
      "\u001b[0;31mClientError\u001b[0m: An error occurred (AccessDeniedException) when calling the CreateNotebookInstance operation: User: arn:aws:sts::476271697919:assumed-role/abc.dev.us-west-2.data-scientist.basic-execution.role/ds-session is not authorized to perform: sagemaker:CreateNotebookInstance on resource: arn:aws:sagemaker:us-west-2:476271697919:notebook-instance/demo-2020-08-19-14-46-10"
     ]
    }
   ],
   "source": [
    "response = ds_sm.create_notebook_instance(NotebookInstanceName=nb_name,\n",
    "                                          InstanceType='ml.t3.medium',\n",
    "                                          RoleArn=sagemaker_nb_role,\n",
    "                                          Tags=[{'Key':'abc.owner-name', 'Value':'beyoung'},\n",
    "                                                {'Key':'abc.cost-center', 'Value': 'dept1'},\n",
    "                                                {'Key':'abc.project', 'Value': 'forecast'},                                                \n",
    "                                          ])\n",
    "response"
   ]
  },
  {
   "cell_type": "markdown",
   "metadata": {},
   "source": [
    "# Delete Role"
   ]
  },
  {
   "cell_type": "code",
   "execution_count": 18,
   "metadata": {},
   "outputs": [
    {
     "data": {
      "text/plain": [
       "{'ResponseMetadata': {'RequestId': '75d7005a-cd8c-4b20-bad8-7961afb86bbf',\n",
       "  'HTTPStatusCode': 200,\n",
       "  'HTTPHeaders': {'x-amzn-requestid': '75d7005a-cd8c-4b20-bad8-7961afb86bbf',\n",
       "   'content-type': 'text/xml',\n",
       "   'content-length': '200',\n",
       "   'date': 'Wed, 19 Aug 2020 14:25:16 GMT'},\n",
       "  'RetryAttempts': 0}}"
      ]
     },
     "execution_count": 18,
     "metadata": {},
     "output_type": "execute_result"
    }
   ],
   "source": [
    "iam.detach_role_policy(RoleName=ds_role_name, PolicyArn=policy_arn)\n",
    "response = iam.delete_role(RoleName=ds_role_name)\n",
    "response"
   ]
  },
  {
   "cell_type": "code",
   "execution_count": null,
   "metadata": {},
   "outputs": [],
   "source": []
  }
 ],
 "metadata": {
  "kernelspec": {
   "display_name": "conda_python3",
   "language": "python",
   "name": "conda_python3"
  },
  "language_info": {
   "codemirror_mode": {
    "name": "ipython",
    "version": 3
   },
   "file_extension": ".py",
   "mimetype": "text/x-python",
   "name": "python",
   "nbconvert_exporter": "python",
   "pygments_lexer": "ipython3",
   "version": "3.6.10"
  }
 },
 "nbformat": 4,
 "nbformat_minor": 4
}
