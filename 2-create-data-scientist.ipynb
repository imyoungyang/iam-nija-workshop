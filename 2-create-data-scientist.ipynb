{
 "cells": [
  {
   "cell_type": "code",
   "execution_count": 1,
   "metadata": {},
   "outputs": [],
   "source": [
    "import boto3\n",
    "import json"
   ]
  },
  {
   "cell_type": "code",
   "execution_count": 2,
   "metadata": {},
   "outputs": [],
   "source": [
    "# get current accout and region\n",
    "account = boto3.client('sts').get_caller_identity().get('Account')\n",
    "region = boto3.Session().region_name\n",
    "ds_nb_exec_role = f'arn:aws:iam::{account}:role/abc.dev.all.sagemaker.data-scientist-exec.role'\n",
    "ds_nb_resource = f'arn:aws:sagemaker:{region}:{account}:notebook-instance/*'\n",
    "ds_policy_name = 'abc.dev.us-west-2.data-scientist.create-nb.policy'\n",
    "\n",
    "# print(f'{ds_nb_exec_role} \\n{ds_nb_resource}')"
   ]
  },
  {
   "cell_type": "code",
   "execution_count": 3,
   "metadata": {},
   "outputs": [],
   "source": [
    "# Create a data scientist policy\n",
    "# String condition operators: \n",
    "# https://docs.aws.amazon.com/IAM/latest/UserGuide/reference_policies_elements_condition_operators.html#Conditions_String\n",
    "\n",
    "ds_policy = {\n",
    "    \"Version\": \"2012-10-17\",\n",
    "    \"Statement\": [\n",
    "        {\n",
    "            \"Effect\": \"Allow\",\n",
    "            \"Action\": \"iam:PassRole\",\n",
    "            \"Resource\": ds_nb_exec_role\n",
    "        },\n",
    "        {\n",
    "            \"Effect\": \"Allow\",\n",
    "            \"Action\": \"sagemaker:CreateNotebookInstance\",\n",
    "            \"Resource\": ds_nb_resource,\n",
    "            \"Condition\": {\n",
    "                \"ForAnyValue:StringEquals\": {\n",
    "                    \"sagemaker:InstanceTypes\": [\n",
    "                        \"ml.t2.medium\",\n",
    "                        \"ml.t3.medium\"\n",
    "                    ]\n",
    "                }\n",
    "            }\n",
    "        }\n",
    "    ]\n",
    "}"
   ]
  },
  {
   "cell_type": "code",
   "execution_count": 4,
   "metadata": {},
   "outputs": [
    {
     "name": "stdout",
     "output_type": "stream",
     "text": [
      "{'Policy': {'PolicyName': 'abc.dev.us-west-2.data-scientist.create-nb.policy', 'PolicyId': 'ANPA26JQQ3SNCNJYLMFCH', 'Arn': 'arn:aws:iam::752257916058:policy/abc.dev.us-west-2.data-scientist.create-nb.policy', 'Path': '/', 'DefaultVersionId': 'v1', 'AttachmentCount': 0, 'PermissionsBoundaryUsageCount': 0, 'IsAttachable': True, 'CreateDate': datetime.datetime(2020, 7, 27, 12, 37, 28, tzinfo=tzlocal()), 'UpdateDate': datetime.datetime(2020, 7, 27, 12, 37, 28, tzinfo=tzlocal())}, 'ResponseMetadata': {'RequestId': '325cf029-6c4e-4eab-8e12-de8153b5799f', 'HTTPStatusCode': 200, 'HTTPHeaders': {'x-amzn-requestid': '325cf029-6c4e-4eab-8e12-de8153b5799f', 'content-type': 'text/xml', 'content-length': '833', 'date': 'Mon, 27 Jul 2020 12:37:27 GMT'}, 'RetryAttempts': 0}}\n"
     ]
    },
    {
     "data": {
      "text/plain": [
       "'arn:aws:iam::752257916058:policy/abc.dev.us-west-2.data-scientist.create-nb.policy'"
      ]
     },
     "execution_count": 4,
     "metadata": {},
     "output_type": "execute_result"
    }
   ],
   "source": [
    "# Create IAM client\n",
    "iam = boto3.client('iam')\n",
    "\n",
    "response = iam.create_policy(\n",
    "  PolicyName=ds_policy_name,\n",
    "  PolicyDocument=json.dumps(ds_policy)\n",
    ")\n",
    "print(response)\n",
    "policy_arn = response['Policy']['Arn']\n",
    "policy_arn"
   ]
  },
  {
   "cell_type": "markdown",
   "metadata": {},
   "source": [
    "# create data scient execution role"
   ]
  },
  {
   "cell_type": "code",
   "execution_count": 5,
   "metadata": {},
   "outputs": [],
   "source": [
    "ds_role_name = 'abc.dev.us-west-2.data-scientist.basic-execution.role'"
   ]
  },
  {
   "cell_type": "code",
   "execution_count": 6,
   "metadata": {},
   "outputs": [],
   "source": [
    "# https://docs.aws.amazon.com/IAM/latest/UserGuide/id_roles_create_policy-examples.html\n",
    "ds_assume_role_policy = {\n",
    "    \"Version\": \"2012-10-17\",\n",
    "    \"Statement\": [\n",
    "        {\n",
    "            \"Effect\": \"Allow\",\n",
    "            \"Principal\": { \"AWS\": account},\n",
    "            \"Action\": [\n",
    "                \"sts:AssumeRole\"\n",
    "            ]\n",
    "        }\n",
    "    ]\n",
    "}"
   ]
  },
  {
   "cell_type": "code",
   "execution_count": 9,
   "metadata": {},
   "outputs": [
    {
     "name": "stdout",
     "output_type": "stream",
     "text": [
      "{'Role': {'Path': '/', 'RoleName': 'abc.dev.us-west-2.data-scientist.basic-execution.role', 'RoleId': 'AROA26JQQ3SND4744QBEI', 'Arn': 'arn:aws:iam::752257916058:role/abc.dev.us-west-2.data-scientist.basic-execution.role', 'CreateDate': datetime.datetime(2020, 7, 27, 12, 38, 38, tzinfo=tzlocal()), 'AssumeRolePolicyDocument': {'Version': '2012-10-17', 'Statement': [{'Effect': 'Allow', 'Principal': {'AWS': '752257916058'}, 'Action': ['sts:AssumeRole']}]}}, 'ResponseMetadata': {'RequestId': '0bd5d01e-db92-48cd-ad13-5335a8b0381a', 'HTTPStatusCode': 200, 'HTTPHeaders': {'x-amzn-requestid': '0bd5d01e-db92-48cd-ad13-5335a8b0381a', 'content-type': 'text/xml', 'content-length': '854', 'date': 'Mon, 27 Jul 2020 12:38:37 GMT'}, 'RetryAttempts': 0}}\n"
     ]
    }
   ],
   "source": [
    "response = iam.create_role(\n",
    "    RoleName=ds_role_name,\n",
    "    AssumeRolePolicyDocument=json.dumps(ds_assume_role_policy)\n",
    ")\n",
    "print(response)"
   ]
  },
  {
   "cell_type": "code",
   "execution_count": 10,
   "metadata": {},
   "outputs": [
    {
     "data": {
      "text/plain": [
       "{'ResponseMetadata': {'RequestId': 'f16f78f8-04df-4de0-8c8b-1d1a03045563',\n",
       "  'HTTPStatusCode': 200,\n",
       "  'HTTPHeaders': {'x-amzn-requestid': 'f16f78f8-04df-4de0-8c8b-1d1a03045563',\n",
       "   'content-type': 'text/xml',\n",
       "   'content-length': '212',\n",
       "   'date': 'Mon, 27 Jul 2020 12:38:50 GMT'},\n",
       "  'RetryAttempts': 0}}"
      ]
     },
     "execution_count": 10,
     "metadata": {},
     "output_type": "execute_result"
    }
   ],
   "source": [
    "response = iam.attach_role_policy(RoleName=ds_role_name, PolicyArn=policy_arn)\n",
    "response"
   ]
  },
  {
   "cell_type": "code",
   "execution_count": null,
   "metadata": {},
   "outputs": [],
   "source": []
  }
 ],
 "metadata": {
  "kernelspec": {
   "display_name": "conda_python3",
   "language": "python",
   "name": "conda_python3"
  },
  "language_info": {
   "codemirror_mode": {
    "name": "ipython",
    "version": 3
   },
   "file_extension": ".py",
   "mimetype": "text/x-python",
   "name": "python",
   "nbconvert_exporter": "python",
   "pygments_lexer": "ipython3",
   "version": "3.6.10"
  }
 },
 "nbformat": 4,
 "nbformat_minor": 4
}
