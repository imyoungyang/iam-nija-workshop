{
 "cells": [
  {
   "cell_type": "markdown",
   "metadata": {},
   "source": [
    "# Verify the data scientist role\n",
    "\n",
    "\n",
    "#### Prerequirement\n",
    "\n",
    "* For demostaration purposed, Let jupyternotebook SageMaker execution role to perform `sts:AssumeRole` on resource any.\n"
   ]
  },
  {
   "cell_type": "code",
   "execution_count": 1,
   "metadata": {},
   "outputs": [],
   "source": [
    "import boto3"
   ]
  },
  {
   "cell_type": "code",
   "execution_count": 2,
   "metadata": {},
   "outputs": [],
   "source": [
    "# get current accout and region\n",
    "region = boto3.Session().region_name\n",
    "account = boto3.client('sts').get_caller_identity().get('Account')\n",
    "roleArn = f'arn:aws:iam::{account}:role/abc.dev.{region}.data-scientist.basic-execution.role'\n",
    "roleSSName = 'dev.data-science'\n",
    "\n",
    "sagemaker_nb_role = f'arn:aws:iam::{account}:role/abc.dev.all.sagemaker.data-scientist-exec.role'"
   ]
  },
  {
   "cell_type": "code",
   "execution_count": 4,
   "metadata": {},
   "outputs": [],
   "source": [
    "sts = boto3.client('sts')\n",
    "\n",
    "response = sts.assume_role(RoleArn=roleArn, RoleSessionName=roleSSName)\n",
    "ds_credentials = response['Credentials']"
   ]
  },
  {
   "cell_type": "code",
   "execution_count": 5,
   "metadata": {},
   "outputs": [],
   "source": [
    "# use data-science credentials to create sagemaker\n",
    "ds_session = boto3.Session(aws_access_key_id=ds_credentials['AccessKeyId'],\n",
    "    aws_secret_access_key=ds_credentials['SecretAccessKey'],\n",
    "    aws_session_token=ds_credentials['SessionToken'],\n",
    "    region_name=region)"
   ]
  },
  {
   "cell_type": "code",
   "execution_count": 6,
   "metadata": {},
   "outputs": [],
   "source": [
    "ds_sm = ds_session.client(service_name='sagemaker')"
   ]
  },
  {
   "cell_type": "code",
   "execution_count": 7,
   "metadata": {},
   "outputs": [],
   "source": [
    "from datetime import datetime\n",
    "now = datetime.now().strftime(\"-%Y-%m-%d-%H-%M-%S\") # current date and time\n",
    "\n",
    "nb_name = 'demo' + now"
   ]
  },
  {
   "cell_type": "code",
   "execution_count": 10,
   "metadata": {},
   "outputs": [
    {
     "data": {
      "text/plain": [
       "{'NotebookInstanceArn': 'arn:aws:sagemaker:us-west-2:752257916058:notebook-instance/demo-2020-07-27-13-04-55',\n",
       " 'ResponseMetadata': {'RequestId': 'db200836-5a0d-48e8-8fa7-a10e3da8d7b8',\n",
       "  'HTTPStatusCode': 200,\n",
       "  'HTTPHeaders': {'x-amzn-requestid': 'db200836-5a0d-48e8-8fa7-a10e3da8d7b8',\n",
       "   'content-type': 'application/x-amz-json-1.1',\n",
       "   'content-length': '109',\n",
       "   'date': 'Mon, 27 Jul 2020 13:08:11 GMT'},\n",
       "  'RetryAttempts': 0}}"
      ]
     },
     "execution_count": 10,
     "metadata": {},
     "output_type": "execute_result"
    }
   ],
   "source": [
    "response = ds_sm.create_notebook_instance(NotebookInstanceName=nb_name,\n",
    "                                          InstanceType='ml.t3.medium',\n",
    "                                          RoleArn=sagemaker_nb_role)\n",
    "response"
   ]
  },
  {
   "cell_type": "code",
   "execution_count": null,
   "metadata": {},
   "outputs": [],
   "source": []
  }
 ],
 "metadata": {
  "kernelspec": {
   "display_name": "conda_python3",
   "language": "python",
   "name": "conda_python3"
  },
  "language_info": {
   "codemirror_mode": {
    "name": "ipython",
    "version": 3
   },
   "file_extension": ".py",
   "mimetype": "text/x-python",
   "name": "python",
   "nbconvert_exporter": "python",
   "pygments_lexer": "ipython3",
   "version": "3.6.10"
  }
 },
 "nbformat": 4,
 "nbformat_minor": 4
}
