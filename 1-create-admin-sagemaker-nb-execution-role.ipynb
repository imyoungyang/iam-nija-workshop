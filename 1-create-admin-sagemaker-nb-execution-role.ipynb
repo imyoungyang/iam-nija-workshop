{
 "cells": [
  {
   "cell_type": "markdown",
   "metadata": {},
   "source": [
    "# Create roles for SageMaker Notebook Instance"
   ]
  },
  {
   "cell_type": "markdown",
   "metadata": {},
   "source": [
    "You can now attach or replace an AWS Identity and Access Management (IAM) role to your existing Amazon SageMaker / EC2 instance. IAM roles enable your applications running on SageMaker / EC2 to use temporary security credentials that AWS creates, distributes, and rotates automatically.\n",
    "\n",
    "![](https://docs.aws.amazon.com/IAM/latest/UserGuide/images/roles-usingrole-ec2roleinstance.png)\n",
    "\n",
    "* [Using an IAM Role to Grant Permissions to Applications Running on Amazon EC2 Instances](https://docs.aws.amazon.com/IAM/latest/UserGuide/id_roles_use_switch-role-ec2.html)"
   ]
  },
  {
   "cell_type": "markdown",
   "metadata": {},
   "source": [
    "# Overview: Use AWS Console with Adminstrator\n",
    "\n",
    "1. In IAM, create super-admin, data-scientist role for SageMaker notebook\n",
    "2. Launch SageMaker notebook instance to with super-admin role"
   ]
  },
  {
   "cell_type": "markdown",
   "metadata": {},
   "source": [
    "### Create a Super-Admin role\n",
    "\n",
    "* name: `abc.dev.all.sagemaker.super-admin-exec.role`\n",
    "* Trusted entities: sagemaker.amazonaws.com\n",
    "* attached policies: IAMFullAccess, AmazonSageMakerFullAccess"
   ]
  },
  {
   "cell_type": "markdown",
   "metadata": {},
   "source": [
    "### Create a data-scientist role\n",
    "\n",
    "* name: `abc.dev.all.sagemaker.data-scientist-exec.role`\n",
    "* Trusted entities: sagemaker.amazonaws.com\n",
    "* attached policies: AmazonSageMakerFullAccess"
   ]
  },
  {
   "cell_type": "markdown",
   "metadata": {},
   "source": [
    "### Launch AWS SageMaker Notebook Instance with Super-Admin role\n",
    "\n",
    "* name: `super-admin`\n",
    "* role: `abc.dev.all.sagemaker.super-admin-exec.role`\n",
    "* instance: `t2.medium`"
   ]
  },
  {
   "cell_type": "code",
   "execution_count": null,
   "metadata": {},
   "outputs": [],
   "source": []
  }
 ],
 "metadata": {
  "kernelspec": {
   "display_name": "conda_python3",
   "language": "python",
   "name": "conda_python3"
  },
  "language_info": {
   "codemirror_mode": {
    "name": "ipython",
    "version": 3
   },
   "file_extension": ".py",
   "mimetype": "text/x-python",
   "name": "python",
   "nbconvert_exporter": "python",
   "pygments_lexer": "ipython3",
   "version": "3.6.10"
  }
 },
 "nbformat": 4,
 "nbformat_minor": 4
}
